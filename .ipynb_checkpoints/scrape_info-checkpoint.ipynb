{
 "cells": [
  {
   "cell_type": "code",
   "execution_count": null,
   "id": "differential-coffee",
   "metadata": {},
   "outputs": [],
   "source": [
    "import json\n",
    "import requests\n",
    "import pandas as pd\n",
    "\n",
    "from datetime import datetime\n",
    "from user_agent import generate_user_agent"
   ]
  },
  {
   "cell_type": "code",
   "execution_count": null,
   "id": "fifty-sampling",
   "metadata": {},
   "outputs": [],
   "source": [
    "headers = {\n",
    "    \"User-Agent\": generate_user_agent(),\n",
    "    \"Authorization\": open(\"resy_key.txt\").readlines(),\n",
    "}"
   ]
  },
  {
   "cell_type": "code",
   "execution_count": null,
   "id": "korean-theology",
   "metadata": {},
   "outputs": [],
   "source": [
    "# Resy does not give a list of restaurants in \"nyc\", just those in a radius of a point.\n",
    "# Use a bunch of points so we do not miss any restaurants.\n",
    "points = (\n",
    "    (40.712941, -74.006393), # Downtown\n",
    "    (40.731248, -73.995177), # West Village\n",
    "    (40.727896, -73.983021), # East Village\n",
    "    (40.758192, -73.982890), # Midtown\n",
    "    (40.785470, -73.976007), # Upper West\n",
    "    (40.778061, -73.954034), # Upper East\n",
    "    (40.810670, -73.946289), # Harlem\n",
    "    (40.845711, -73.937796), # Washington Heights\n",
    "    (40.816246, -73.918893), # South Bronx\n",
    "    (40.769370, -73.911535), # Astoria\n",
    "    (40.749186, -73.893048), # Jackson Heights\n",
    "    (40.759380, -73.832923), # Flushing\n",
    "    (40.710153, -73.960520), # Williamsburg\n",
    "    (40.703422, -73.987805), # Dumbo\n",
    "    (40.684090, -73.977800), # Downtown Bk\n",
    ")"
   ]
  },
  {
   "cell_type": "code",
   "execution_count": null,
   "id": "virtual-taylor",
   "metadata": {},
   "outputs": [],
   "source": [
    "slug_to_info = {}\n",
    "\n",
    "for lat, lng in points:\n",
    "    response = requests.post(\"https://api.resy.com/3/venuesearch/search\", headers=headers, json={\n",
    "        \"page\": 1,\n",
    "        \"per_page\": 1000,\n",
    "        \"geo\": {\"latitude\": lat, \"longitude\": lng, \"radius\": 35420},\n",
    "        \"query\": \"\"\n",
    "    })\n",
    "    \n",
    "    # Get basic info about the restaurants.\n",
    "    for hit in json.loads(response.text)[\"search\"][\"hits\"]:\n",
    "        slug_to_info[hit[\"url_slug\"]] = {\n",
    "            \"slug\": hit[\"url_slug\"],\n",
    "            \"id\": hit[\"id\"][\"resy\"],\n",
    "            \"cuisine\": hit[\"cuisine\"][0],\n",
    "            \"stars\": hit[\"rating\"][\"average\"],\n",
    "            \"count\": hit[\"rating\"][\"count\"],\n",
    "            \"where\": hit[\"neighborhood\"],\n",
    "        }"
   ]
  },
  {
   "cell_type": "code",
   "execution_count": null,
   "id": "acute-minnesota",
   "metadata": {},
   "outputs": [],
   "source": [
    "url = \"\".join([\n",
    "    \"https://api.resy.com/4/venue/calendar\",\n",
    "    \"?venue_id={}\",\n",
    "    \"&num_seats=2\",\n",
    "    \"&start_date=\" + datetime.today().strftime(\"%Y-%m-%d\"),\n",
    "    \"&end_date=2030-01-01\"\n",
    "])\n",
    "\n",
    "# Get reservation info about the restaurants.\n",
    "for slug, info in slug_to_info.items():\n",
    "    try:\n",
    "        response = requests.get(url.format(info[\"id\"]), headers=headers)\n",
    "        schedule = json.loads(response.text)[\"scheduled\"]\n",
    "        info[\"available\"] = sum(1 for s in schedule if s[\"inventory\"][\"reservation\"] == \"available\")\n",
    "        info[\"sold-out\"] = sum(1 for s in schedule if s[\"inventory\"][\"reservation\"] == \"sold-out\")\n",
    "    except:\n",
    "        pass"
   ]
  },
  {
   "cell_type": "code",
   "execution_count": null,
   "id": "trained-memorabilia",
   "metadata": {},
   "outputs": [],
   "source": [
    "df = pd.DataFrame.from_records(list(slug_to_info.values()))\n",
    "df.to_csv(\"resy.csv\", index=False)"
   ]
  },
  {
   "cell_type": "code",
   "execution_count": null,
   "id": "affecting-rocket",
   "metadata": {},
   "outputs": [],
   "source": []
  }
 ],
 "metadata": {
  "kernelspec": {
   "display_name": "Python 3 (ipykernel)",
   "language": "python",
   "name": "python3"
  },
  "language_info": {
   "codemirror_mode": {
    "name": "ipython",
    "version": 3
   },
   "file_extension": ".py",
   "mimetype": "text/x-python",
   "name": "python",
   "nbconvert_exporter": "python",
   "pygments_lexer": "ipython3",
   "version": "3.11.7"
  }
 },
 "nbformat": 4,
 "nbformat_minor": 5
}
